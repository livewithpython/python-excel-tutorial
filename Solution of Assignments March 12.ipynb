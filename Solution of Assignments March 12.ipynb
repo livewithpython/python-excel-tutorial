{
 "metadata": {
  "name": ""
 },
 "nbformat": 3,
 "nbformat_minor": 0,
 "worksheets": [
  {
   "cells": [
    {
     "cell_type": "code",
     "collapsed": false,
     "input": [
      "#Assignment 1 : Output the elements of a list in a reverse order.\n",
      "x = ['a', 'b', 'c', 'd', 'e']\n",
      "length = len(x)\n",
      "for i in range(length):\n",
      "    print x[-(i+1)]"
     ],
     "language": "python",
     "metadata": {},
     "outputs": [
      {
       "output_type": "stream",
       "stream": "stdout",
       "text": [
        "e\n",
        "d\n",
        "c\n",
        "b\n",
        "a\n"
       ]
      }
     ],
     "prompt_number": 3
    },
    {
     "cell_type": "code",
     "collapsed": false,
     "input": [
      "length = len(x)\n",
      "for i in range(length):\n",
      "    print x[length-i-1]"
     ],
     "language": "python",
     "metadata": {},
     "outputs": [
      {
       "output_type": "stream",
       "stream": "stdout",
       "text": [
        "e\n",
        "d\n",
        "c\n",
        "b\n",
        "a\n"
       ]
      }
     ],
     "prompt_number": 4
    },
    {
     "cell_type": "code",
     "collapsed": false,
     "input": [
      "#Assignment 2 : Output a string in a reverse order.\n",
      "y = \"Hello World\"\n",
      "result = ''\n",
      "\n",
      "length = len(y)\n",
      "for i in range(length):\n",
      "    result = result + y[-(i+1)]\n",
      "print result"
     ],
     "language": "python",
     "metadata": {},
     "outputs": [
      {
       "output_type": "stream",
       "stream": "stdout",
       "text": [
        "dlroW olleH\n"
       ]
      }
     ],
     "prompt_number": 10
    },
    {
     "cell_type": "code",
     "collapsed": false,
     "input": [
      "#assignement 3 : In our last class, we have seen how we can sum from 1 to 100 using range(). Using same range method, ca you sum only odd numbers.\n",
      "total = 0\n",
      "for i in range(1, 101, 2):\n",
      "    total = total + i\n",
      "    \n",
      "print total\n"
     ],
     "language": "python",
     "metadata": {},
     "outputs": [
      {
       "output_type": "stream",
       "stream": "stdout",
       "text": [
        "2500\n"
       ]
      }
     ],
     "prompt_number": 14
    },
    {
     "cell_type": "code",
     "collapsed": false,
     "input": [
      "#Assignment 4 : Sum this list : [[10, 20, 30, 40], [5, 15, 25, 35, 45], [50, 100]]\n",
      "data = [[10, 20, 30, 40], [5, 15, 25, 35, 45], [50, 100]]\n",
      "total = 0\n",
      "for i in data:\n",
      "    for j in i:\n",
      "        total = total + j\n",
      "        \n",
      "print total"
     ],
     "language": "python",
     "metadata": {},
     "outputs": [
      {
       "output_type": "stream",
       "stream": "stdout",
       "text": [
        "375\n"
       ]
      }
     ],
     "prompt_number": 18
    },
    {
     "cell_type": "code",
     "collapsed": false,
     "input": [
      "#Assignment 5 : Create a list of 5 employee details. Then sum the total salary of all employees. \n",
      "employee1 = {'name' : 'A', 'age' : 22, 'salary' : 10000}\n",
      "employee2 = {'name' : 'B', 'age' : 25, 'salary' : 15000}\n",
      "employee3 = {'name' : 'C', 'age' : 21, 'salary' : 18000}\n",
      "employee4 = {'name' : 'D', 'age' : 29, 'salary' : 22000}\n",
      "employee5 = {'name' : 'E', 'age' : 30, 'salary' : 30000}\n",
      "employee_list = [employee1, employee2, employee3, employee4, employee5]\n",
      "total = 0\n",
      "for x in employee_list:\n",
      "    total = total + x['salary']\n",
      "print total"
     ],
     "language": "python",
     "metadata": {},
     "outputs": [
      {
       "output_type": "stream",
       "stream": "stdout",
       "text": [
        "95000\n"
       ]
      }
     ],
     "prompt_number": 19
    },
    {
     "cell_type": "code",
     "collapsed": false,
     "input": [],
     "language": "python",
     "metadata": {},
     "outputs": []
    }
   ],
   "metadata": {}
  }
 ]
}