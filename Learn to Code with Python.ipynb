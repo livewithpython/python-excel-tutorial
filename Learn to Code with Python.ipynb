{
 "metadata": {
  "name": ""
 },
 "nbformat": 3,
 "nbformat_minor": 0,
 "worksheets": [
  {
   "cells": [
    {
     "cell_type": "markdown",
     "metadata": {},
     "source": [
      "Python\n",
      "------\n",
      "\n",
      "In case you are wondering, we will be using Python 2.7. Python 3.3 is very similar, but we won't worry about the differences in this session.\n",
      "\n",
      "iPython Notebook\n",
      "----------------\n",
      "\n",
      "For the first hour we will be working with Python in your browser using iPython Notebook. Here is an example block of code:"
     ]
    },
    {
     "cell_type": "code",
     "collapsed": false,
     "input": [
      "print('Hello, World!')\n",
      "# This is a comment, it isn't run as code, but often they are helpful"
     ],
     "language": "python",
     "metadata": {},
     "outputs": [
      {
       "output_type": "stream",
       "stream": "stdout",
       "text": [
        "Hello, World!\n"
       ]
      }
     ],
     "prompt_number": 1
    },
    {
     "cell_type": "markdown",
     "metadata": {},
     "source": [
      "### Problem\n",
      "Excel manipulation with python programming language "
     ]
    },
    {
     "cell_type": "code",
     "collapsed": false,
     "input": [
      "import os #os is a module\n",
      "import xlrd, xlwt\n",
      "#get the current directory\n",
      "os.getcwd()\n",
      "\n",
      "#find all files and folder of a directory\n",
      "files_folders = os.listdir('data/') #listdir is a function\n",
      "print \"File and Folders : \"\n",
      "print files_folders\n",
      "\n",
      "excel_files = [] #empty list variable\n",
      "for file in files_folders:   #It's a loop\n",
      "    if file[-4:] == 'xlsx':\n",
      "        excel_files.append(file)\n",
      "        \n",
      "print \"\\n\"\n",
      "print \"Excel Files :\"\n",
      "print excel_files\n",
      "print \"\\n\"\n",
      "result = {}\n",
      "\n",
      "#loop over all excel files\n",
      "for file in excel_files: \n",
      "    #read excel file from disk\n",
      "    filepath = 'data/' + file\n",
      "    workbook = xlrd.open_workbook(filepath)\n",
      "    #get all sheets of a workbook\n",
      "    #print \"\\nFile name : \" + file\n",
      "    sheets = workbook.sheets()\n",
      "    \n",
      "    #loop over all sheets of a specific workbook\n",
      "    for sheet in sheets:\n",
      "        num_rows = sheet.nrows - 1\n",
      "        num_cells = sheet.ncols - 1\n",
      "        curr_row = -1\n",
      "        \n",
      "        #loop over all rows and columns\n",
      "        while curr_row < num_rows:\n",
      "            curr_row += 1\n",
      "            row = sheet.row(curr_row)\n",
      "            #print 'Row: ', curr_row, ' ', sheet.cell_value(curr_row, 1), ' ', sheet.cell_value(curr_row, 2)\n",
      "            #prepare result as requirement here\n",
      "        \n",
      "            #Following example\n",
      "            if curr_row not in [0, 1, 2]:\n",
      "                upazila = sheet.cell_value(curr_row, 1)\n",
      "                if upazila in result.keys():\n",
      "                    result[upazila] += sheet.cell_value(curr_row, 2)\n",
      "                else:\n",
      "                    result[upazila] = sheet.cell_value(curr_row, 2)\n",
      "            \n",
      "print result"
     ],
     "language": "python",
     "metadata": {},
     "outputs": [
      {
       "output_type": "stream",
       "stream": "stdout",
       "text": [
        "File and Folders : \n",
        "['.DS_Store', 'adder (1).py', 'input1.xlsx', 'input2.xlsx', 'lif_expectancy.pdf', 'lif_expectancy.png', 'spreadsheet-combine-example.py', 'theglobaleconomy_life_expectancy.csv']\n",
        "\n",
        "\n",
        "Excel Files :\n",
        "['input1.xlsx', 'input2.xlsx']\n",
        "\n",
        "\n",
        "{u'New pregnancies': 90.0, u'Smear Negative': 21.0, u'Immunizations': 210.0, u'Smear Positive': 9.0, u'TB Positive': 3.0, u'New births': 50.0}\n"
       ]
      }
     ],
     "prompt_number": 47
    },
    {
     "cell_type": "markdown",
     "metadata": {},
     "source": [
      "Arithmetic\n",
      "----------\n",
      "\n",
      "Like every programming language, Python is a good calculator. Run the block of code below to make sure the answer is right!"
     ]
    },
    {
     "cell_type": "code",
     "collapsed": false,
     "input": [
      "1 + 1"
     ],
     "language": "python",
     "metadata": {},
     "outputs": [
      {
       "metadata": {},
       "output_type": "pyout",
       "prompt_number": 2,
       "text": [
        "2"
       ]
      }
     ],
     "prompt_number": 2
    },
    {
     "cell_type": "markdown",
     "metadata": {},
     "source": [
      "Hopefully it worked. "
     ]
    },
    {
     "cell_type": "code",
     "collapsed": false,
     "input": [
      "8 + 6*2*3 - (15 - 13)"
     ],
     "language": "python",
     "metadata": {},
     "outputs": [
      {
       "metadata": {},
       "output_type": "pyout",
       "prompt_number": 3,
       "text": [
        "42"
       ]
      }
     ],
     "prompt_number": 3
    },
    {
     "cell_type": "markdown",
     "metadata": {},
     "source": [
      "Numbers are valid Python code as are the common operators, +, /, * and -. You can write different types of numbers including integers, real numbers (floating point) and negative integers."
     ]
    },
    {
     "cell_type": "code",
     "collapsed": false,
     "input": [
      "42 + 3.149 + -1"
     ],
     "language": "python",
     "metadata": {},
     "outputs": [
      {
       "metadata": {},
       "output_type": "pyout",
       "prompt_number": 4,
       "text": [
        "44.149"
       ]
      }
     ],
     "prompt_number": 4
    },
    {
     "cell_type": "markdown",
     "metadata": {},
     "source": [
      "Since 42 is literally 42, we call these numbers *literals*. You are literally writing number in your Python code."
     ]
    },
    {
     "cell_type": "markdown",
     "metadata": {},
     "source": [
      "If you want to make it more user friendly you could do the following."
     ]
    },
    {
     "cell_type": "markdown",
     "metadata": {},
     "source": [
      "Variables\n",
      "----------\n",
      "\n",
      "meal and tip_percent aren't literal numbers, they are variables.\n",
      "\n",
      "In Python variables are like buckets (dump trucks?). You can put anything you want in them. Just give them a name and you can use them in place of the literal value.\n",
      "\n",
      "Above meal was 200.00 but we could also set meal to the text 'Hello, World'"
     ]
    },
    {
     "cell_type": "code",
     "collapsed": false,
     "input": [
      "meal = 200.00\n",
      "print(meal)\n",
      "meal = \"Hello, World!\"\n",
      "print(meal)"
     ],
     "language": "python",
     "metadata": {},
     "outputs": [
      {
       "output_type": "stream",
       "stream": "stdout",
       "text": [
        "200.0\n",
        "Hello, World!\n"
       ]
      }
     ],
     "prompt_number": 8
    },
    {
     "cell_type": "code",
     "collapsed": false,
     "input": [
      "meal = 200.00\n",
      "# as a decimal, 10% would be 0.1\n",
      "tip_percent = 0.10\n",
      "meal * tip_percent"
     ],
     "language": "python",
     "metadata": {},
     "outputs": [
      {
       "metadata": {},
       "output_type": "pyout",
       "prompt_number": 6,
       "text": [
        "20.0"
       ]
      }
     ],
     "prompt_number": 6
    },
    {
     "cell_type": "code",
     "collapsed": false,
     "input": [
      "meal = 200.00\n",
      "# as integer, 10% would be 10\n",
      "tip_percent = 10\n",
      "meal * tip_percent / 100"
     ],
     "language": "python",
     "metadata": {},
     "outputs": [
      {
       "metadata": {},
       "output_type": "pyout",
       "prompt_number": 7,
       "text": [
        "20.0"
       ]
      }
     ],
     "prompt_number": 7
    },
    {
     "cell_type": "markdown",
     "metadata": {},
     "source": [
      "The value a variable has only depends on what it was last assigned.\n",
      "\n",
      "It is like a spreadsheet except you choose the names for the cells yourself.\n",
      "\n",
      "Exceptional Python\n",
      "-------------------\n",
      "\n",
      "Python only understands certain code. When you write something Python doesn't understand it throws an exception and tries to explain what went wrong, but it can only speak in a broken Pythonesque english. Let's see some examples by running these code blocks"
     ]
    },
    {
     "cell_type": "code",
     "collapsed": false,
     "input": [
      "gibberish"
     ],
     "language": "python",
     "metadata": {},
     "outputs": [
      {
       "ename": "NameError",
       "evalue": "name 'gibberish' is not defined",
       "output_type": "pyerr",
       "traceback": [
        "\u001b[0;31m---------------------------------------------------------------------------\u001b[0m\n\u001b[0;31mNameError\u001b[0m                                 Traceback (most recent call last)",
        "\u001b[0;32m<ipython-input-8-9bdd8ea4da78>\u001b[0m in \u001b[0;36m<module>\u001b[0;34m()\u001b[0m\n\u001b[0;32m----> 1\u001b[0;31m \u001b[0mgibberish\u001b[0m\u001b[0;34m\u001b[0m\u001b[0m\n\u001b[0m",
        "\u001b[0;31mNameError\u001b[0m: name 'gibberish' is not defined"
       ]
      }
     ],
     "prompt_number": 8
    },
    {
     "cell_type": "code",
     "collapsed": false,
     "input": [
      "*adsflf_"
     ],
     "language": "python",
     "metadata": {},
     "outputs": [
      {
       "ename": "SyntaxError",
       "evalue": "invalid syntax (<ipython-input-9-e23e056f3c48>, line 1)",
       "output_type": "pyerr",
       "traceback": [
        "\u001b[0;36m  File \u001b[0;32m\"<ipython-input-9-e23e056f3c48>\"\u001b[0;36m, line \u001b[0;32m1\u001b[0m\n\u001b[0;31m    *adsflf_\u001b[0m\n\u001b[0m    ^\u001b[0m\n\u001b[0;31mSyntaxError\u001b[0m\u001b[0;31m:\u001b[0m invalid syntax\n"
       ]
      }
     ],
     "prompt_number": 9
    },
    {
     "cell_type": "code",
     "collapsed": false,
     "input": [
      "print('Hello'"
     ],
     "language": "python",
     "metadata": {},
     "outputs": [
      {
       "ename": "SyntaxError",
       "evalue": "unexpected EOF while parsing (<ipython-input-10-49c0f052bb79>, line 1)",
       "output_type": "pyerr",
       "traceback": [
        "\u001b[0;36m  File \u001b[0;32m\"<ipython-input-10-49c0f052bb79>\"\u001b[0;36m, line \u001b[0;32m1\u001b[0m\n\u001b[0;31m    print('Hello'\u001b[0m\n\u001b[0m                 ^\u001b[0m\n\u001b[0;31mSyntaxError\u001b[0m\u001b[0;31m:\u001b[0m unexpected EOF while parsing\n"
       ]
      }
     ],
     "prompt_number": 10
    },
    {
     "cell_type": "code",
     "collapsed": false,
     "input": [
      "1v34"
     ],
     "language": "python",
     "metadata": {},
     "outputs": [
      {
       "ename": "SyntaxError",
       "evalue": "invalid syntax (<ipython-input-11-fe371f1ddd4f>, line 1)",
       "output_type": "pyerr",
       "traceback": [
        "\u001b[0;36m  File \u001b[0;32m\"<ipython-input-11-fe371f1ddd4f>\"\u001b[0;36m, line \u001b[0;32m1\u001b[0m\n\u001b[0;31m    1v34\u001b[0m\n\u001b[0m       ^\u001b[0m\n\u001b[0;31mSyntaxError\u001b[0m\u001b[0;31m:\u001b[0m invalid syntax\n"
       ]
      }
     ],
     "prompt_number": 11
    },
    {
     "cell_type": "code",
     "collapsed": false,
     "input": [
      "2000 / 0"
     ],
     "language": "python",
     "metadata": {},
     "outputs": [
      {
       "ename": "ZeroDivisionError",
       "evalue": "integer division or modulo by zero",
       "output_type": "pyerr",
       "traceback": [
        "\u001b[0;31m---------------------------------------------------------------------------\u001b[0m\n\u001b[0;31mZeroDivisionError\u001b[0m                         Traceback (most recent call last)",
        "\u001b[0;32m<ipython-input-12-d14d67f6c4a6>\u001b[0m in \u001b[0;36m<module>\u001b[0;34m()\u001b[0m\n\u001b[0;32m----> 1\u001b[0;31m \u001b[0;36m2000\u001b[0m \u001b[0;34m/\u001b[0m \u001b[0;36m0\u001b[0m\u001b[0;34m\u001b[0m\u001b[0m\n\u001b[0m",
        "\u001b[0;31mZeroDivisionError\u001b[0m: integer division or modulo by zero"
       ]
      }
     ],
     "prompt_number": 12
    },
    {
     "cell_type": "markdown",
     "metadata": {},
     "source": [
      "Python tries to tell you where it stopped understanding, but in the above examples, each program is only 1 line long. \n",
      "\n",
      "It also tries to show you where on the line the problem happened with caret (\"^\"). \n",
      "\n",
      "Finally it tells you the type of thing that went wrong, (NameError, SyntaxError, ZeroDivisionError) and a bit more information like \"name 'gibberish' is not defined\" or \"unexpected EOF while parsing\".\n",
      "\n",
      "Unfortunately you might not find \"unexpected EOF while parsing\" too helpful. EOF stands for End of File, but what file? What is parsing? Python does it's best, but it does take a bit of time to develop a knack for what these messages mean. If you run into an error you don't understand please ask a tutor."
     ]
    },
    {
     "cell_type": "markdown",
     "metadata": {},
     "source": [
      "What's a String?\n",
      "----------------\n",
      "\n",
      "Programmers call text literals *strings* because we are weird like that. From now on we will only refer to strings, but we just mean pieces of text inside our code.\n",
      "\n",
      "Let's use strings with variables!"
     ]
    },
    {
     "cell_type": "code",
     "collapsed": false,
     "input": [
      "your_name = \"Albert O'Connor\"\n",
      "print(\"Hello, \")\n",
      "print(your_name)"
     ],
     "language": "python",
     "metadata": {},
     "outputs": [
      {
       "output_type": "stream",
       "stream": "stdout",
       "text": [
        "Hello, \n",
        "Albert O'Connor\n"
       ]
      }
     ],
     "prompt_number": 13
    },
    {
     "cell_type": "markdown",
     "metadata": {},
     "source": [
      "Strings in Python are a bit more complicated because the operations on them aren't just + and * (though those are valid operations).\n",
      "\n",
      "Strings have their own operations we can call on them to change them. We can use dir to get an idea of what they are."
     ]
    },
    {
     "cell_type": "markdown",
     "metadata": {},
     "source": [
      "That is a really long list. For now you can ignore the ones which start and end with underscores (\"_\"), but that still leaves a lot! Let's start with upper and lower.\n",
      "\n",
      "Let's say you are really happy to the world, and you want to make sure everyone knows it, you can use upper. \"upper\" is short for uppercase and you will see what it does by running the code block below."
     ]
    },
    {
     "cell_type": "code",
     "collapsed": false,
     "input": [
      "string = \"Hello, World\"\n",
      "string.upper()"
     ],
     "language": "python",
     "metadata": {},
     "outputs": [
      {
       "metadata": {},
       "output_type": "pyout",
       "prompt_number": 14,
       "text": [
        "'HELLO, WORLD'"
       ]
      }
     ],
     "prompt_number": 14
    },
    {
     "cell_type": "markdown",
     "metadata": {},
     "source": [
      "Maybe you are feeling a bit sad and you want to be quiet, you can then use lower."
     ]
    },
    {
     "cell_type": "code",
     "collapsed": false,
     "input": [
      "string = \"Hello, World\"\n",
      "string.lower()"
     ],
     "language": "python",
     "metadata": {},
     "outputs": [
      {
       "metadata": {},
       "output_type": "pyout",
       "prompt_number": 15,
       "text": [
        "'hello, world'"
       ]
      }
     ],
     "prompt_number": 15
    },
    {
     "cell_type": "markdown",
     "metadata": {},
     "source": [
      "We use the dot (\".\") operator to call these operations on the string. What lower and upper operate on comes before the dot and needs to be a string variable or literal."
     ]
    },
    {
     "cell_type": "code",
     "collapsed": false,
     "input": [
      "\"Hello, World\".upper()"
     ],
     "language": "python",
     "metadata": {},
     "outputs": [
      {
       "metadata": {},
       "output_type": "pyout",
       "prompt_number": 16,
       "text": [
        "'HELLO, WORLD'"
       ]
      }
     ],
     "prompt_number": 16
    },
    {
     "cell_type": "markdown",
     "metadata": {},
     "source": [
      "If Else\n",
      "-------\n",
      "\n",
      "Has an application ever ask you a question? Maybe it asks you if you really want to quit because unsaved changed might lost, or if you want to leave a webpage. If you answer OK one thing happen, like your application closing, but if you answer No or Cancel something else happens. In all those cases there is a special piece of code that is being run somewhere, it is an *if* condition.\n",
      "\n",
      "Like all languages, Python allows us to conditionally run code.\n",
      "\n",
      "To have an if condition we need the idea of something being true and something being false. Remember, we call numbers \"integers\" and \"floating point\", and text \"strings\". We call true or false \"boolean\" values. True would represent OK where as false would represent No or Cancel in the example above.\n",
      "\n",
      "The literal values in Python for true and false are \"True\" and \"False\"\n"
     ]
    },
    {
     "cell_type": "code",
     "collapsed": false,
     "input": [
      "False is False"
     ],
     "language": "python",
     "metadata": {},
     "outputs": [
      {
       "metadata": {},
       "output_type": "pyout",
       "prompt_number": 17,
       "text": [
        "True"
       ]
      }
     ],
     "prompt_number": 17
    },
    {
     "cell_type": "code",
     "collapsed": false,
     "input": [
      "True is True"
     ],
     "language": "python",
     "metadata": {},
     "outputs": [
      {
       "metadata": {},
       "output_type": "pyout",
       "prompt_number": 18,
       "text": [
        "True"
       ]
      }
     ],
     "prompt_number": 18
    },
    {
     "cell_type": "code",
     "collapsed": false,
     "input": [
      "True is False"
     ],
     "language": "python",
     "metadata": {},
     "outputs": [
      {
       "metadata": {},
       "output_type": "pyout",
       "prompt_number": 19,
       "text": [
        "False"
       ]
      }
     ],
     "prompt_number": 19
    },
    {
     "cell_type": "markdown",
     "metadata": {},
     "source": [
      "We can write expressions with operations too."
     ]
    },
    {
     "cell_type": "code",
     "collapsed": false,
     "input": [
      "1 > 2"
     ],
     "language": "python",
     "metadata": {},
     "outputs": [
      {
       "metadata": {},
       "output_type": "pyout",
       "prompt_number": 20,
       "text": [
        "False"
       ]
      }
     ],
     "prompt_number": 20
    },
    {
     "cell_type": "code",
     "collapsed": false,
     "input": [
      "\"Cool\".startswith(\"C\")"
     ],
     "language": "python",
     "metadata": {},
     "outputs": [
      {
       "metadata": {},
       "output_type": "pyout",
       "prompt_number": 21,
       "text": [
        "True"
       ]
      }
     ],
     "prompt_number": 21
    },
    {
     "cell_type": "code",
     "collapsed": false,
     "input": [
      "\"Cool\".endswith(\"C\")"
     ],
     "language": "python",
     "metadata": {},
     "outputs": [
      {
       "metadata": {},
       "output_type": "pyout",
       "prompt_number": 22,
       "text": [
        "False"
       ]
      }
     ],
     "prompt_number": 22
    },
    {
     "cell_type": "code",
     "collapsed": false,
     "input": [
      "\"oo\" in \"Cool\""
     ],
     "language": "python",
     "metadata": {},
     "outputs": [
      {
       "metadata": {},
       "output_type": "pyout",
       "prompt_number": 23,
       "text": [
        "True"
       ]
      }
     ],
     "prompt_number": 23
    },
    {
     "cell_type": "code",
     "collapsed": false,
     "input": [
      "42 == 1 # note the double equals sign for equality"
     ],
     "language": "python",
     "metadata": {},
     "outputs": [
      {
       "metadata": {},
       "output_type": "pyout",
       "prompt_number": 24,
       "text": [
        "False"
       ]
      }
     ],
     "prompt_number": 24
    },
    {
     "cell_type": "markdown",
     "metadata": {},
     "source": [
      "In order to write an \"if\" statement we need code that spans multiple lines\n",
      "\n",
      "    if condition:\n",
      "        print(\"Condition is True\")\n",
      "    else:\n",
      "        print(\"Condition is False\")\n",
      "\n",
      "Some things to notice. The if condition ends in a colon (\":\"). In Python blocks of code are indicated with a colon (\":\") and are grouped by white space. Notice the else also ends with a colon (\":\"), \"else:\". Let's try changing the condition and see what happens."
     ]
    },
    {
     "cell_type": "code",
     "collapsed": false,
     "input": [
      "condition = 1 > 2\n",
      "if condition:\n",
      "    print(\"Condition is True\")\n",
      "else:\n",
      "    print(\"Condition is False\")"
     ],
     "language": "python",
     "metadata": {},
     "outputs": [
      {
       "output_type": "stream",
       "stream": "stdout",
       "text": [
        "Condition is False\n"
       ]
      }
     ],
     "prompt_number": 25
    },
    {
     "cell_type": "markdown",
     "metadata": {},
     "source": [
      "About that white space, consider the following code:\n",
      "\n",
      "    if condition:\n",
      "        print(\"Condition is True\")\n",
      "    else:\n",
      "        print(\"Condition is False\")\n",
      "    print(\"Condition is True or False, either way this is outputted\")\n",
      "\n",
      "Since the last print statement isn't indented it gets run after the if block or the else block.\n",
      "\n",
      "You can play with this. Try indenting the last print statement below and see what happens."
     ]
    },
    {
     "cell_type": "code",
     "collapsed": false,
     "input": [
      "statement1 = False\n",
      "statement2 = False\n",
      "\n",
      "if statement1:\n",
      "    print(\"statement1 is True\")\n",
      "    \n",
      "elif statement2:\n",
      "    print(\"statement2 is True\")\n",
      "    \n",
      "else:\n",
      "    print(\"statement1 and statement2 are False\")"
     ],
     "language": "python",
     "metadata": {},
     "outputs": [
      {
       "output_type": "stream",
       "stream": "stdout",
       "text": [
        "statement1 and statement2 are False\n"
       ]
      }
     ],
     "prompt_number": 26
    },
    {
     "cell_type": "code",
     "collapsed": false,
     "input": [
      "condition = True\n",
      "if condition:\n",
      "    print(\"Condition is True\")\n",
      "else:\n",
      "    print(\"Condition is False\")\n",
      "print(\"Condition is True or False, either way this is outputted\")"
     ],
     "language": "python",
     "metadata": {},
     "outputs": [
      {
       "output_type": "stream",
       "stream": "stdout",
       "text": [
        "Condition is True\n",
        "Condition is True or False, either way this is outputted\n"
       ]
      }
     ],
     "prompt_number": 27
    },
    {
     "cell_type": "code",
     "collapsed": false,
     "input": [
      "# Edit the values of these 3 variables\n",
      "boolean_literal = False\n",
      "number = 8\n",
      "string_literal = \"I like to count sheep before bed.\"\n",
      "\n",
      "# Leave this code the same please\n",
      "if number > 10 and boolean_literal and \"cows\" in string_literal:\n",
      "    print(\"Success!\")\n",
      "else:\n",
      "    print(\"Try again!\")"
     ],
     "language": "python",
     "metadata": {},
     "outputs": [
      {
       "output_type": "stream",
       "stream": "stdout",
       "text": [
        "Try again!\n"
       ]
      }
     ],
     "prompt_number": 28
    },
    {
     "cell_type": "markdown",
     "metadata": {},
     "source": [
      "Lists\n",
      "-----\n",
      "\n",
      "So far we have numbers, strings, and conditional if statements. Now for our first container &mdash; a list.\n",
      "\n",
      "A list in Python is just like a shopping list or a list of numbers. They have a defined order and you can add to it or remove from it.\n",
      "\n",
      "Let's take a look at some simple lists."
     ]
    },
    {
     "cell_type": "code",
     "collapsed": false,
     "input": [
      "# The empty list\n",
      "[]"
     ],
     "language": "python",
     "metadata": {},
     "outputs": [
      {
       "metadata": {},
       "output_type": "pyout",
       "prompt_number": 29,
       "text": [
        "[]"
       ]
      }
     ],
     "prompt_number": 29
    },
    {
     "cell_type": "code",
     "collapsed": false,
     "input": [
      "[\"Milk\", \"Eggs\", \"Bacon\"]"
     ],
     "language": "python",
     "metadata": {},
     "outputs": [
      {
       "metadata": {},
       "output_type": "pyout",
       "prompt_number": 30,
       "text": [
        "['Milk', 'Eggs', 'Bacon']"
       ]
      }
     ],
     "prompt_number": 30
    },
    {
     "cell_type": "code",
     "collapsed": false,
     "input": [
      "[1,2,3]"
     ],
     "language": "python",
     "metadata": {},
     "outputs": [
      {
       "metadata": {},
       "output_type": "pyout",
       "prompt_number": 31,
       "text": [
        "[1, 2, 3]"
       ]
      }
     ],
     "prompt_number": 31
    },
    {
     "cell_type": "markdown",
     "metadata": {},
     "source": [
      "List literals are all about square brackets (\"[ ]\") and commas (\",\"). You can create a list of literals by wrapping them in square brackets and separating them with commas.\n",
      "\n",
      "You can even mix different types of things into the same list; numbers, strings, booleans."
     ]
    },
    {
     "cell_type": "code",
     "collapsed": false,
     "input": [
      "[True, 0, \"Awesome\"]"
     ],
     "language": "python",
     "metadata": {},
     "outputs": [
      {
       "metadata": {},
       "output_type": "pyout",
       "prompt_number": 32,
       "text": [
        "[True, 0, 'Awesome']"
       ]
      }
     ],
     "prompt_number": 32
    },
    {
     "cell_type": "markdown",
     "metadata": {},
     "source": [
      "We can put variables into a list and set a variable to a list."
     ]
    },
    {
     "cell_type": "code",
     "collapsed": false,
     "input": [
      "your_name = \"Albert O'Connor\"\n",
      "awesome_people = [\"Eric Idle\", your_name]\n",
      "print(awesome_people)"
     ],
     "language": "python",
     "metadata": {},
     "outputs": [
      {
       "output_type": "stream",
       "stream": "stdout",
       "text": [
        "['Eric Idle', \"Albert O'Connor\"]\n"
       ]
      }
     ],
     "prompt_number": 33
    },
    {
     "cell_type": "markdown",
     "metadata": {},
     "source": [
      "Like strings lists have operations"
     ]
    },
    {
     "cell_type": "markdown",
     "metadata": {},
     "source": [
      "\"append\" is an interesting one. \"append\" lets you add an item to the end of a list."
     ]
    },
    {
     "cell_type": "code",
     "collapsed": false,
     "input": [
      "your_name = \"Albert O'Connor\"\n",
      "awesome_people = [\"Eric Idle\", your_name]\n",
      "awesome_people.append(\"John Cleese\")\n",
      "print(awesome_people)"
     ],
     "language": "python",
     "metadata": {},
     "outputs": [
      {
       "output_type": "stream",
       "stream": "stdout",
       "text": [
        "['Eric Idle', \"Albert O'Connor\", 'John Cleese']\n"
       ]
      }
     ],
     "prompt_number": 34
    },
    {
     "cell_type": "markdown",
     "metadata": {},
     "source": [
      "We can use square brackets (\"[]\") again with the variable of the list to access individual elements."
     ]
    },
    {
     "cell_type": "code",
     "collapsed": false,
     "input": [
      "awesome_people[0]"
     ],
     "language": "python",
     "metadata": {},
     "outputs": [
      {
       "metadata": {},
       "output_type": "pyout",
       "prompt_number": 35,
       "text": [
        "'Eric Idle'"
       ]
      }
     ],
     "prompt_number": 35
    },
    {
     "cell_type": "markdown",
     "metadata": {},
     "source": [
      "There is that 0 indexing again. The first element of the list is given index value 0."
     ]
    },
    {
     "cell_type": "markdown",
     "metadata": {},
     "source": [
      "Dictionaries\n",
      "------------\n",
      "\n",
      "We have come a long way! Just one more section. Dictionaries are another container like lists, but instead of being index by a number like 0 or 1 it is indexed by a key which can be almost anything. The name comes from being able to use it to represent a dictionary.\n",
      "\n",
      "List literals use square brackets (\"[]\") but dictionaries use braces (\"{}\"). Use \"shift-[\" to type \"{\".\n",
      "\n",
      "    {\"Python\": \"An awesome programming language\", \n",
      "     \"Monty Python\": \"A british comedy troupe\"}\n",
      "\n",
      "In a dictionary the key comes first followed by a colon (\":\") than the value then a comma (\",\") then another key and so on. This is one situation where a colon doesn't start a block.\n",
      "\n",
      "Let's see what running the literal dictionary looks like."
     ]
    },
    {
     "cell_type": "code",
     "collapsed": false,
     "input": [
      "{\"Python\": \"An awesome programming language\", \n",
      " \"Monty Python\": \"A british comedy troupe\"}"
     ],
     "language": "python",
     "metadata": {},
     "outputs": [
      {
       "metadata": {},
       "output_type": "pyout",
       "prompt_number": 36,
       "text": [
        "{'Monty Python': 'A british comedy troupe',\n",
        " 'Python': 'An awesome programming language'}"
       ]
      }
     ],
     "prompt_number": 36
    },
    {
     "cell_type": "markdown",
     "metadata": {},
     "source": [
      "We can assign a dictionary to a variable and we can index it by keys to get the values (definitions) out."
     ]
    },
    {
     "cell_type": "code",
     "collapsed": false,
     "input": [
      "our_dictionary = {\n",
      "   \"Python\": \"An awesome programming language\", \n",
      "   \"Monty Python\": \"A british comedy troupe\"\n",
      "}\n",
      "our_dictionary[\"Python\"]"
     ],
     "language": "python",
     "metadata": {},
     "outputs": [
      {
       "metadata": {},
       "output_type": "pyout",
       "prompt_number": 37,
       "text": [
        "'An awesome programming language'"
       ]
      }
     ],
     "prompt_number": 37
    },
    {
     "cell_type": "markdown",
     "metadata": {},
     "source": [
      "Once you two dictionaries, entry_1 and entry_2 with values for the keys 'name' and 'email', let's put them into a list."
     ]
    },
    {
     "cell_type": "code",
     "collapsed": false,
     "input": [
      "# Edit with the values you want.\n",
      "entry_1 = {'name': \"\",\n",
      "           'email': \"\"}\n",
      "\n",
      "# Add the keys and values to this entry like above.\n",
      "entry_2 = {}\n",
      "\n",
      "print(entry_1)\n",
      "print(entry_2)"
     ],
     "language": "python",
     "metadata": {},
     "outputs": [
      {
       "output_type": "stream",
       "stream": "stdout",
       "text": [
        "{'name': '', 'email': ''}\n",
        "{}\n"
       ]
      }
     ],
     "prompt_number": 38
    },
    {
     "cell_type": "markdown",
     "metadata": {},
     "source": [
      "Make sure your message includes \"{name}\" somewhere so it is personalized."
     ]
    },
    {
     "cell_type": "code",
     "collapsed": false,
     "input": [
      "entries = [entry_1,]  # Edit this list to include both entries\n",
      "\n",
      "print(entries)"
     ],
     "language": "python",
     "metadata": {},
     "outputs": [
      {
       "output_type": "stream",
       "stream": "stdout",
       "text": [
        "[{'name': '', 'email': ''}]\n"
       ]
      }
     ],
     "prompt_number": 39
    },
    {
     "cell_type": "markdown",
     "metadata": {},
     "source": [
      "Loops\n",
      "-----\n",
      "\n",
      "Indexes are useful, but lists really shine when you start looping.\n",
      "\n",
      "Loops let you do something for each item in a list. They are kind of like if statements because they have an indented block.\n",
      "\n",
      "They look like this:\n",
      "\n",
      "    for item in list:\n",
      "        print(item) # Do any action per item in the list\n",
      "\n",
      "\"for\" and \"in\" are required. \"list\" can be any variable or literal which is like a list. \"item\" is the name you want to give each item of the list in the indented block as you iterate through. We call each step where item has a new value an iteration.\n",
      "\n",
      "Let's see it in action with our list"
     ]
    },
    {
     "cell_type": "code",
     "collapsed": false,
     "input": [
      "your_name = \"Albert O'Connor\"\n",
      "awesome_people = [\"Eric Idle\", your_name]\n",
      "awesome_people.append(\"John Cleese\")\n",
      "\n",
      "for person in awesome_people:\n",
      "    print(person)"
     ],
     "language": "python",
     "metadata": {},
     "outputs": [
      {
       "output_type": "stream",
       "stream": "stdout",
       "text": [
        "Eric Idle\n",
        "Albert O'Connor\n",
        "John Cleese\n"
       ]
      }
     ],
     "prompt_number": 40
    },
    {
     "cell_type": "markdown",
     "metadata": {},
     "source": [
      "This is bascially the same as writing"
     ]
    },
    {
     "cell_type": "code",
     "collapsed": false,
     "input": [
      "person = awesome_people[0]\n",
      "print(person)\n",
      "person = awesome_people[1]\n",
      "print(person)\n",
      "person = awesome_people[2]\n",
      "print(person)"
     ],
     "language": "python",
     "metadata": {},
     "outputs": [
      {
       "output_type": "stream",
       "stream": "stdout",
       "text": [
        "Eric Idle\n",
        "Albert O'Connor\n",
        "John Cleese\n"
       ]
      }
     ],
     "prompt_number": 41
    },
    {
     "cell_type": "markdown",
     "metadata": {},
     "source": [
      "But that is a lot more code than:\n",
      "\n",
      "    for person in awesome_people:\n",
      "        print(person)\n",
      "\n",
      "Considering that our list of awesome people could be very long!\n",
      "\n",
      "You can use the built-in function \"range\" to create lists of numbers easily"
     ]
    },
    {
     "cell_type": "code",
     "collapsed": false,
     "input": [
      "range(0,10)"
     ],
     "language": "python",
     "metadata": {},
     "outputs": [
      {
       "metadata": {},
       "output_type": "pyout",
       "prompt_number": 42,
       "text": [
        "[0, 1, 2, 3, 4, 5, 6, 7, 8, 9]"
       ]
      }
     ],
     "prompt_number": 42
    },
    {
     "cell_type": "markdown",
     "metadata": {},
     "source": [
      "And then we can use that with a loop to print a list of squares."
     ]
    },
    {
     "cell_type": "code",
     "collapsed": false,
     "input": [
      "for number in range(0,10):\n",
      "    print(\"{0} squared is {1}\".format(number, number*number))"
     ],
     "language": "python",
     "metadata": {},
     "outputs": [
      {
       "output_type": "stream",
       "stream": "stdout",
       "text": [
        "0 squared is 0\n",
        "1 squared is 1\n",
        "2 squared is 4\n",
        "3 squared is 9\n",
        "4 squared is 16\n",
        "5 squared is 25\n",
        "6 squared is 36\n",
        "7 squared is 49\n",
        "8 squared is 64\n",
        "9 squared is 81\n"
       ]
      }
     ],
     "prompt_number": 43
    },
    {
     "cell_type": "markdown",
     "metadata": {},
     "source": [
      "####While loop"
     ]
    },
    {
     "cell_type": "code",
     "collapsed": false,
     "input": [
      "i = 0\n",
      "\n",
      "while i < 5:\n",
      "    print(i)\n",
      "    \n",
      "    i = i + 1\n",
      "    \n",
      "print(\"done\")"
     ],
     "language": "python",
     "metadata": {},
     "outputs": [
      {
       "output_type": "stream",
       "stream": "stdout",
       "text": [
        "0\n",
        "1\n",
        "2\n",
        "3\n",
        "4\n",
        "done\n"
       ]
      }
     ],
     "prompt_number": 44
    },
    {
     "cell_type": "markdown",
     "metadata": {},
     "source": [
      "## Functions\n",
      "\n",
      "A function in Python is defined using the keyword `def`, followed by a function name, a signature within parentheses `()`, and a colon `:`. The following code, with one additional level of indentation, is the function body."
     ]
    },
    {
     "cell_type": "code",
     "collapsed": false,
     "input": [
      "def func0():   \n",
      "    print(\"test\")"
     ],
     "language": "python",
     "metadata": {},
     "outputs": [],
     "prompt_number": 45
    },
    {
     "cell_type": "code",
     "collapsed": false,
     "input": [
      "func0()"
     ],
     "language": "python",
     "metadata": {},
     "outputs": [
      {
       "output_type": "stream",
       "stream": "stdout",
       "text": [
        "test\n"
       ]
      }
     ],
     "prompt_number": 46
    },
    {
     "cell_type": "markdown",
     "metadata": {},
     "source": [
      "Optionally, but highly recommended, we can define a so called \"docstring\", which is a description of the functions purpose and behaivor. The docstring should follow directly after the function definition, before the code in the function body."
     ]
    },
    {
     "cell_type": "code",
     "collapsed": false,
     "input": [
      "def func1(s):\n",
      "    \"\"\"\n",
      "    Print a string 's' and tell how many characters it has    \n",
      "    \"\"\"\n",
      "    \n",
      "    print(s + \" has \" + str(len(s)) + \" characters\")"
     ],
     "language": "python",
     "metadata": {},
     "outputs": [],
     "prompt_number": 47
    },
    {
     "cell_type": "code",
     "collapsed": false,
     "input": [
      "func1(\"test\")"
     ],
     "language": "python",
     "metadata": {},
     "outputs": [
      {
       "output_type": "stream",
       "stream": "stdout",
       "text": [
        "test has 4 characters\n"
       ]
      }
     ],
     "prompt_number": 48
    },
    {
     "cell_type": "markdown",
     "metadata": {},
     "source": [
      "Functions that returns a value use the `return` keyword:"
     ]
    },
    {
     "cell_type": "code",
     "collapsed": false,
     "input": [
      "def square(x):\n",
      "    \"\"\"\n",
      "    Return the square of x.\n",
      "    \"\"\"\n",
      "    return x ** 2"
     ],
     "language": "python",
     "metadata": {},
     "outputs": [],
     "prompt_number": 49
    },
    {
     "cell_type": "code",
     "collapsed": false,
     "input": [
      "square(4)"
     ],
     "language": "python",
     "metadata": {},
     "outputs": [
      {
       "metadata": {},
       "output_type": "pyout",
       "prompt_number": 50,
       "text": [
        "16"
       ]
      }
     ],
     "prompt_number": 50
    },
    {
     "cell_type": "markdown",
     "metadata": {},
     "source": [
      "### Excercises\n",
      "Write a function, that will take 2 numbers"
     ]
    }
   ],
   "metadata": {}
  }
 ]
}