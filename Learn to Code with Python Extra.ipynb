{
 "metadata": {
  "name": "Learn to Code with Python Extra"
 },
 "nbformat": 3,
 "nbformat_minor": 0,
 "worksheets": [
  {
   "cells": [
    {
     "cell_type": "markdown",
     "metadata": {},
     "source": [
      "Part 6\n",
      "======\n",
      "\n",
      "Bonus round! If you are a speed demon and got through the other parts please start on this one.\n",
      "\n",
      "Functions\n",
      "---------\n",
      "\n",
      "We have been using Python functions this whole time. \"print\" is a function. \".format\" is a function (some people may insist it be called a method). At the core a function:\n",
      "\n",
      ">Gets passed parameters and returns a value\n",
      "\n",
      "It is really handy to organize your code as your write it, but isn't required when just getting simple tasks done. If you don't write your own functions, you will definitely be using ones Python and other people define.\n",
      "\n",
      "Let's look at what it takes to create our own function in Python"
     ]
    },
    {
     "cell_type": "code",
     "collapsed": false,
     "input": [
      "def my_first_function():\n",
      "    return \"My first function\"\n",
      "\n",
      "my_first_function()"
     ],
     "language": "python",
     "metadata": {},
     "outputs": []
    },
    {
     "cell_type": "markdown",
     "metadata": {},
     "source": [
      "You first function didn't actually take any parameters, but it still needed the round brackets \"()\".\n",
      "\n",
      "\"def\" is kind of like \"if\" and \"for\" it tells Python you are about to define a function. Right after def is the name of the function, in our case \"my_first_function\". Next comes the round brackets \"()\" which can be empty or have a comma separated list of argument names (the names we give the parametets you pass in). Finally there is a colon \":\" which as we have seen before means we are starting a block of code that can be many lines long. When we are done we dedent (reverse of indent) and call our newly made function.\n",
      "\n",
      "TODO:\n",
      "Talk about indexable or positional parameters, keyword parameters/default values\n"
     ]
    },
    {
     "cell_type": "code",
     "collapsed": false,
     "input": [],
     "language": "python",
     "metadata": {},
     "outputs": []
    }
   ],
   "metadata": {}
  }
 ]
}